{
 "cells": [
  {
   "cell_type": "markdown",
   "source": [
    "## Import Library"
   ],
   "metadata": {}
  },
  {
   "cell_type": "code",
   "execution_count": 6,
   "source": [
    "import pandas as pd\r\n",
    "from bs4 import BeautifulSoup\r\n",
    "import requests\r\n",
    "import time\r\n",
    "from selenium.webdriver import Edge\r\n",
    "from selenium.webdriver.edge.options import Options\r\n",
    "from msedge.selenium_tools import EdgeOptions"
   ],
   "outputs": [],
   "metadata": {}
  },
  {
   "cell_type": "markdown",
   "source": [
    "## Option for Edge Web Browser"
   ],
   "metadata": {}
  },
  {
   "cell_type": "code",
   "execution_count": 7,
   "source": [
    "options = EdgeOptions()\r\n",
    "options.use_chromium = True"
   ],
   "outputs": [],
   "metadata": {}
  },
  {
   "cell_type": "code",
   "execution_count": 8,
   "source": [
    "test_url = 'https://www.amazon.com/Echo-Glow/product-reviews/B07KRY43KN/ref=cm_cr_dp_d_show_all_btm?ie=UTF8&reviewerType=all_reviews'\r\n",
    "test_url_2 = 'https://www.amazon.com/Echo-Glow/product-reviews/B07KRY43KN/ref=cm_cr_arp_d_paging_btm_next_2?ie=UTF8&reviewerType=all_reviews&pageNumber=2'\r\n",
    "test_url_3 = 'https://www.amazon.com/Echo-Glow/product-reviews/B07KRY43KN/ref=cm_cr_getr_d_paging_btm_next_3?ie=UTF8&reviewerType=all_reviews&pageNumber=3'\r\n",
    "test_url"
   ],
   "outputs": [
    {
     "output_type": "execute_result",
     "data": {
      "text/plain": [
       "'https://www.amazon.com/Echo-Glow/product-reviews/B07KRY43KN/ref=cm_cr_dp_d_show_all_btm?ie=UTF8&reviewerType=all_reviews'"
      ]
     },
     "metadata": {},
     "execution_count": 8
    }
   ],
   "metadata": {}
  },
  {
   "cell_type": "code",
   "execution_count": 9,
   "source": [
    "# Test URL\r\n",
    "requests.get(test_url)"
   ],
   "outputs": [
    {
     "output_type": "execute_result",
     "data": {
      "text/plain": [
       "<Response [503]>"
      ]
     },
     "metadata": {},
     "execution_count": 9
    }
   ],
   "metadata": {}
  },
  {
   "cell_type": "markdown",
   "source": [
    "## Scarapping web and saving to html file"
   ],
   "metadata": {}
  },
  {
   "cell_type": "code",
   "execution_count": 13,
   "source": [
    "for i in range(1, 101):\r\n",
    "\r\n",
    "    page_number = str(i)\r\n",
    "    test_url = f\"https://www.amazon.com/Echo-Glow/product-reviews/B07KRY43KN/ref=cm_cr_arp_d_paging_btm_next_{page_number}?ie=UTF8&reviewerType=all_reviews&pageNumber={page_number}\"\r\n",
    "\r\n",
    "    driver_path = \"C:\\\\Users\\\\Rija\\\\SHIFTING\\\\WebDriver\\\\msedgedriver.exe\"\r\n",
    "\r\n",
    "    wd = webdriver.Edge(executable_path=driver_path)\r\n",
    "\r\n",
    "    wd.get(test_url)\r\n",
    "\r\n",
    "    time.sleep(1)\r\n",
    "\r\n",
    "    with open(f\"Amazon_Echo_Glow_Review/{page_number}.html\", 'w', encoding='utf-8') as file:\r\n",
    "        file.write(wd.page_source)\r\n",
    "   \r\n",
    "    wd.quit()"
   ],
   "outputs": [],
   "metadata": {}
  }
 ],
 "metadata": {
  "orig_nbformat": 4,
  "language_info": {
   "name": "python",
   "version": "3.9.6",
   "mimetype": "text/x-python",
   "codemirror_mode": {
    "name": "ipython",
    "version": 3
   },
   "pygments_lexer": "ipython3",
   "nbconvert_exporter": "python",
   "file_extension": ".py"
  },
  "kernelspec": {
   "name": "python3",
   "display_name": "Python 3.9.6 64-bit"
  },
  "interpreter": {
   "hash": "002d09ec4a0a7bdd0a19985ef08c844b97af36bd358b0a20fbd9d94a35e89247"
  }
 },
 "nbformat": 4,
 "nbformat_minor": 2
}