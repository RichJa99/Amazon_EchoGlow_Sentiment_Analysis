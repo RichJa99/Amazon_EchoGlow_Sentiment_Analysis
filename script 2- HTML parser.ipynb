{
 "cells": [
  {
   "cell_type": "markdown",
   "source": [
    "## Import Library"
   ],
   "metadata": {}
  },
  {
   "cell_type": "code",
   "execution_count": 1,
   "source": [
    "import pandas as pd\r\n",
    "import os\r\n",
    "from bs4 import BeautifulSoup"
   ],
   "outputs": [],
   "metadata": {}
  },
  {
   "cell_type": "markdown",
   "source": [
    "Data need\r\n",
    "1. Text review\r\n",
    "2. Username\r\n",
    "3. star count\r\n",
    "4. date\r\n",
    "5. usefullnes"
   ],
   "metadata": {}
  },
  {
   "cell_type": "markdown",
   "source": [
    "## Parsing test"
   ],
   "metadata": {}
  },
  {
   "cell_type": "code",
   "execution_count": 9,
   "source": [
    "with open(\"Amazon_Echo_Glow_Review/1.html\", 'r', encoding='utf-8') as reader:\r\n",
    "    html_string = reader.read()\r\n",
    "    soup = BeautifulSoup(html_string, 'html.parser')\r\n",
    "\r\n",
    "soup.find_all(class_= 'a-size-base review-text review-text-content')[0].text.strip() #text review"
   ],
   "outputs": [
    {
     "output_type": "execute_result",
     "data": {
      "text/plain": [
       "'No parents were consulted during the making or design of this device.Been playing with the glow today with my kids.  I feel like it is deceptive as it is just a light, I feel like when I preordered I was led to believe that it was an upgrade to the echo dot.  I was wrong.  It does not add anything in the way of a microphone or speaker.  You just paid $30 for a very simple light that supposedly interacts with your existing echo devices if you say enough words.  Eg you cannot just say “alexa, set rainbow timer for 30 minutes”. You have to address the light specifically “Alexa, set rainbow timer for 30 minutes on <insert device name here>“. Then you get a pretty light and a lot of wires because you have 2 devices plugged in rather than 1.I would rather pay $50 for a device that had a speaker and microphone with a smaller footprint.  I have plenty of smart bulbs and more than enough usb cables running around the house.It gets 2 stars for the rainbow timer feature which allows for my kids to have a visual of how much time is left.Sorry much like the echo auto this is a dud for me.Edit:  2 hours into having it around and a couple more notes:1. Amazon called me for further feedback which was nice. Kudos to support.2. This sucker does not want to be wet (has a warning) so my use case of putting it in the bathroom for a shower or toothbrush timer is a poor idea.  This also means it is a poor choice for a bedside lamp since kids tend to want a glass of water on their bedside.3. Having it in your kid’s bedroom means they need an echo in there.  Parents everywhere, evidently we were not consulted, evidently the developers are unaware of the major distraction an echo after hours can be.  That is mitigated by freetime but guess what is not usable except by touch now?  Echo glow.  And since I cant put it next to the bed...4. Current Use cases:Visual color clock:  there are better cheaper items out there. Onaroo for one.Remote light: Better cheaper solutions for smart homes.  Lifex, hue, etc.Finally I would like to point out that EVERY echo named device to date that I am aware of has a microphone at least.I cannot think of what to do with it so I will be putting it in the kids bathroom with the echo dot that is already there and see how long it lasts.  Maybe I will save some hot water with the rainbow timer.'"
      ]
     },
     "metadata": {},
     "execution_count": 9
    }
   ],
   "metadata": {}
  },
  {
   "cell_type": "code",
   "execution_count": 40,
   "source": [
    "soup.find_all(class_= 'a-profile-name')[0].text #username"
   ],
   "outputs": [
    {
     "output_type": "execute_result",
     "data": {
      "text/plain": [
       "'Matthew Studney'"
      ]
     },
     "metadata": {},
     "execution_count": 40
    }
   ],
   "metadata": {}
  },
  {
   "cell_type": "code",
   "execution_count": 27,
   "source": [
    "soup.find_all(class_= 'review-rating')[0].text #rating"
   ],
   "outputs": [
    {
     "output_type": "execute_result",
     "data": {
      "text/plain": [
       "'4.0 out of 5 stars'"
      ]
     },
     "metadata": {},
     "execution_count": 27
    }
   ],
   "metadata": {}
  },
  {
   "cell_type": "code",
   "execution_count": 28,
   "source": [
    "soup.find_all(class_= 'a-size-base a-color-secondary review-date')[0].text #date"
   ],
   "outputs": [
    {
     "output_type": "execute_result",
     "data": {
      "text/plain": [
       "'Reviewed in the United States on November 20, 2019'"
      ]
     },
     "metadata": {},
     "execution_count": 28
    }
   ],
   "metadata": {}
  },
  {
   "cell_type": "code",
   "execution_count": 91,
   "source": [
    "files = os.listdir(\"Amazon_Echo_Glow_Review/\")\r\n",
    "files.sort()"
   ],
   "outputs": [],
   "metadata": {}
  },
  {
   "cell_type": "markdown",
   "source": [
    "## Get the data for each page"
   ],
   "metadata": {}
  },
  {
   "cell_type": "code",
   "execution_count": 92,
   "source": [
    "username = []\r\n",
    "review_stars = []\r\n",
    "review_text =  []\r\n",
    "review_date = []\r\n",
    "review_usefulness = []\r\n",
    "\r\n",
    "for i in files:\r\n",
    "    print(i)\r\n",
    "    with open(f\"Amazon_Echo_Glow_Review/{i}\", 'r', encoding='utf-8') as reader:\r\n",
    "        html_string = reader.read()\r\n",
    "        soup = BeautifulSoup(html_string, 'html.parser')\r\n",
    "\r\n",
    "        for review in soup.find_all(class_=\"a-section celwidget\"):\r\n",
    "            try:\r\n",
    "                try: \r\n",
    "                    username.append(review.find_all(class_= 'a-profile-name')[0].text)\r\n",
    "                except IndexError:\r\n",
    "                    username.append(\"No Data\")\r\n",
    "                try: \r\n",
    "                    review_text.append(review.find_all(class_= 'review-text-content')[0].text.strip())\r\n",
    "                except IndexError:\r\n",
    "                    review_text.append(\"No Data\")\r\n",
    "                try: \r\n",
    "                    review_stars.append(review.find_all(class_=\"review-rating\")[0].text)\r\n",
    "                except IndexError:\r\n",
    "                    review_stars.append(\"No Data\")\r\n",
    "                try:\r\n",
    "                    review_date.append(review.find_all(class_=\"a-size-base a-color-secondary review-date\")[0].text)\r\n",
    "                except IndexError:\r\n",
    "                    review_date.append(\"No Data\")\r\n",
    "                try:\r\n",
    "                    review_usefulness.append(review.find_all(class_=\"a-size-base a-color-tertiary cr-vote-text\")[0].text.strip())\r\n",
    "                except IndexError:\r\n",
    "                    review_usefulness.append(\"No Data\")\r\n",
    "            except ValueError:\r\n",
    "                pass"
   ],
   "outputs": [
    {
     "output_type": "stream",
     "name": "stdout",
     "text": [
      "1.html\n",
      "10.html\n",
      "100.html\n",
      "11.html\n",
      "12.html\n",
      "13.html\n",
      "14.html\n",
      "15.html\n",
      "16.html\n",
      "17.html\n",
      "18.html\n",
      "19.html\n",
      "2.html\n",
      "20.html\n",
      "21.html\n",
      "22.html\n",
      "23.html\n",
      "24.html\n",
      "25.html\n",
      "26.html\n",
      "27.html\n",
      "28.html\n",
      "29.html\n",
      "3.html\n",
      "30.html\n",
      "31.html\n",
      "32.html\n",
      "33.html\n",
      "34.html\n",
      "35.html\n",
      "36.html\n",
      "37.html\n",
      "38.html\n",
      "39.html\n",
      "4.html\n",
      "40.html\n",
      "41.html\n",
      "42.html\n",
      "43.html\n",
      "44.html\n",
      "45.html\n",
      "46.html\n",
      "47.html\n",
      "48.html\n",
      "49.html\n",
      "5.html\n",
      "50.html\n",
      "51.html\n",
      "52.html\n",
      "53.html\n",
      "54.html\n",
      "55.html\n",
      "56.html\n",
      "57.html\n",
      "58.html\n",
      "59.html\n",
      "6.html\n",
      "60.html\n",
      "61.html\n",
      "62.html\n",
      "63.html\n",
      "64.html\n",
      "65.html\n",
      "66.html\n",
      "67.html\n",
      "68.html\n",
      "69.html\n",
      "7.html\n",
      "70.html\n",
      "71.html\n",
      "72.html\n",
      "73.html\n",
      "74.html\n",
      "75.html\n",
      "76.html\n",
      "77.html\n",
      "78.html\n",
      "79.html\n",
      "8.html\n",
      "80.html\n",
      "81.html\n",
      "82.html\n",
      "83.html\n",
      "84.html\n",
      "85.html\n",
      "86.html\n",
      "87.html\n",
      "88.html\n",
      "89.html\n",
      "9.html\n",
      "90.html\n",
      "91.html\n",
      "92.html\n",
      "93.html\n",
      "94.html\n",
      "95.html\n",
      "96.html\n",
      "97.html\n",
      "98.html\n",
      "99.html\n"
     ]
    }
   ],
   "metadata": {}
  },
  {
   "cell_type": "markdown",
   "source": [
    "## Create Dataframne"
   ],
   "metadata": {}
  },
  {
   "cell_type": "code",
   "execution_count": 94,
   "source": [
    "test = pd.DataFrame(data={\"Username\": username, \"Stars\":review_stars, \"Review Text\":review_text, \"Review Date\":review_date, \"Review Usefulness\":review_usefulness})\r\n",
    "test"
   ],
   "outputs": [
    {
     "output_type": "execute_result",
     "data": {
      "text/html": [
       "<div>\n",
       "<style scoped>\n",
       "    .dataframe tbody tr th:only-of-type {\n",
       "        vertical-align: middle;\n",
       "    }\n",
       "\n",
       "    .dataframe tbody tr th {\n",
       "        vertical-align: top;\n",
       "    }\n",
       "\n",
       "    .dataframe thead th {\n",
       "        text-align: right;\n",
       "    }\n",
       "</style>\n",
       "<table border=\"1\" class=\"dataframe\">\n",
       "  <thead>\n",
       "    <tr style=\"text-align: right;\">\n",
       "      <th></th>\n",
       "      <th>Username</th>\n",
       "      <th>Stars</th>\n",
       "      <th>Review Text</th>\n",
       "      <th>Review Date</th>\n",
       "      <th>Review Usefulness</th>\n",
       "    </tr>\n",
       "  </thead>\n",
       "  <tbody>\n",
       "    <tr>\n",
       "      <th>0</th>\n",
       "      <td>Adam S. Walter</td>\n",
       "      <td>2.0 out of 5 stars</td>\n",
       "      <td>No parents were consulted during the making or...</td>\n",
       "      <td>Reviewed in the United States on November 20, ...</td>\n",
       "      <td>985 people found this helpful</td>\n",
       "    </tr>\n",
       "    <tr>\n",
       "      <th>1</th>\n",
       "      <td>Samie May</td>\n",
       "      <td>2.0 out of 5 stars</td>\n",
       "      <td>UPDATE: I've had this for another 24 hours and...</td>\n",
       "      <td>Reviewed in the United States on November 20, ...</td>\n",
       "      <td>437 people found this helpful</td>\n",
       "    </tr>\n",
       "    <tr>\n",
       "      <th>2</th>\n",
       "      <td>Michael</td>\n",
       "      <td>3.0 out of 5 stars</td>\n",
       "      <td>First off, limiting this product marketing to ...</td>\n",
       "      <td>Reviewed in the United States on November 20, ...</td>\n",
       "      <td>249 people found this helpful</td>\n",
       "    </tr>\n",
       "    <tr>\n",
       "      <th>3</th>\n",
       "      <td>Matthew Studney</td>\n",
       "      <td>4.0 out of 5 stars</td>\n",
       "      <td>I bought this specifically as a wake up (rathe...</td>\n",
       "      <td>Reviewed in the United States on November 20, ...</td>\n",
       "      <td>238 people found this helpful</td>\n",
       "    </tr>\n",
       "    <tr>\n",
       "      <th>4</th>\n",
       "      <td>Veronica44h</td>\n",
       "      <td>5.0 out of 5 stars</td>\n",
       "      <td>My review this is a solid 5 out of 5 for what ...</td>\n",
       "      <td>Reviewed in the United States on November 22, ...</td>\n",
       "      <td>223 people found this helpful</td>\n",
       "    </tr>\n",
       "    <tr>\n",
       "      <th>...</th>\n",
       "      <td>...</td>\n",
       "      <td>...</td>\n",
       "      <td>...</td>\n",
       "      <td>...</td>\n",
       "      <td>...</td>\n",
       "    </tr>\n",
       "    <tr>\n",
       "      <th>995</th>\n",
       "      <td>Elissa81</td>\n",
       "      <td>5.0 out of 5 stars</td>\n",
       "      <td>I've had no issues with connection and works p...</td>\n",
       "      <td>Reviewed in the United States on January 10, 2020</td>\n",
       "      <td>No Data</td>\n",
       "    </tr>\n",
       "    <tr>\n",
       "      <th>996</th>\n",
       "      <td>Super Dad</td>\n",
       "      <td>5.0 out of 5 stars</td>\n",
       "      <td>Daughter loves it! Very cool!</td>\n",
       "      <td>Reviewed in the United States on April 29, 2021</td>\n",
       "      <td>No Data</td>\n",
       "    </tr>\n",
       "    <tr>\n",
       "      <th>997</th>\n",
       "      <td>Sondra M. DeVries</td>\n",
       "      <td>5.0 out of 5 stars</td>\n",
       "      <td>Great</td>\n",
       "      <td>Reviewed in the United States on May 17, 2021</td>\n",
       "      <td>No Data</td>\n",
       "    </tr>\n",
       "    <tr>\n",
       "      <th>998</th>\n",
       "      <td>Kathryn S.</td>\n",
       "      <td>5.0 out of 5 stars</td>\n",
       "      <td>Your browser does not support HTML5 video.\\n\\n...</td>\n",
       "      <td>Reviewed in the United States on March 13, 2021</td>\n",
       "      <td>No Data</td>\n",
       "    </tr>\n",
       "    <tr>\n",
       "      <th>999</th>\n",
       "      <td>Pauline Okrent</td>\n",
       "      <td>5.0 out of 5 stars</td>\n",
       "      <td>i bought it for my twelve yr old son and its g...</td>\n",
       "      <td>Reviewed in the United States on December 25, ...</td>\n",
       "      <td>No Data</td>\n",
       "    </tr>\n",
       "  </tbody>\n",
       "</table>\n",
       "<p>1000 rows × 5 columns</p>\n",
       "</div>"
      ],
      "text/plain": [
       "              Username               Stars  \\\n",
       "0       Adam S. Walter  2.0 out of 5 stars   \n",
       "1            Samie May  2.0 out of 5 stars   \n",
       "2              Michael  3.0 out of 5 stars   \n",
       "3      Matthew Studney  4.0 out of 5 stars   \n",
       "4          Veronica44h  5.0 out of 5 stars   \n",
       "..                 ...                 ...   \n",
       "995           Elissa81  5.0 out of 5 stars   \n",
       "996          Super Dad  5.0 out of 5 stars   \n",
       "997  Sondra M. DeVries  5.0 out of 5 stars   \n",
       "998         Kathryn S.  5.0 out of 5 stars   \n",
       "999     Pauline Okrent  5.0 out of 5 stars   \n",
       "\n",
       "                                           Review Text  \\\n",
       "0    No parents were consulted during the making or...   \n",
       "1    UPDATE: I've had this for another 24 hours and...   \n",
       "2    First off, limiting this product marketing to ...   \n",
       "3    I bought this specifically as a wake up (rathe...   \n",
       "4    My review this is a solid 5 out of 5 for what ...   \n",
       "..                                                 ...   \n",
       "995  I've had no issues with connection and works p...   \n",
       "996                      Daughter loves it! Very cool!   \n",
       "997                                              Great   \n",
       "998  Your browser does not support HTML5 video.\\n\\n...   \n",
       "999  i bought it for my twelve yr old son and its g...   \n",
       "\n",
       "                                           Review Date  \\\n",
       "0    Reviewed in the United States on November 20, ...   \n",
       "1    Reviewed in the United States on November 20, ...   \n",
       "2    Reviewed in the United States on November 20, ...   \n",
       "3    Reviewed in the United States on November 20, ...   \n",
       "4    Reviewed in the United States on November 22, ...   \n",
       "..                                                 ...   \n",
       "995  Reviewed in the United States on January 10, 2020   \n",
       "996    Reviewed in the United States on April 29, 2021   \n",
       "997      Reviewed in the United States on May 17, 2021   \n",
       "998    Reviewed in the United States on March 13, 2021   \n",
       "999  Reviewed in the United States on December 25, ...   \n",
       "\n",
       "                 Review Usefulness  \n",
       "0    985 people found this helpful  \n",
       "1    437 people found this helpful  \n",
       "2    249 people found this helpful  \n",
       "3    238 people found this helpful  \n",
       "4    223 people found this helpful  \n",
       "..                             ...  \n",
       "995                        No Data  \n",
       "996                        No Data  \n",
       "997                        No Data  \n",
       "998                        No Data  \n",
       "999                        No Data  \n",
       "\n",
       "[1000 rows x 5 columns]"
      ]
     },
     "metadata": {},
     "execution_count": 94
    }
   ],
   "metadata": {}
  },
  {
   "cell_type": "code",
   "execution_count": 101,
   "source": [
    "#save file to csv\r\n",
    "test.to_csv(\"amazon_EchoGlow_reviews.csv\", index=False)"
   ],
   "outputs": [],
   "metadata": {}
  }
 ],
 "metadata": {
  "orig_nbformat": 4,
  "language_info": {
   "name": "python",
   "version": "3.9.6",
   "mimetype": "text/x-python",
   "codemirror_mode": {
    "name": "ipython",
    "version": 3
   },
   "pygments_lexer": "ipython3",
   "nbconvert_exporter": "python",
   "file_extension": ".py"
  },
  "kernelspec": {
   "name": "python3",
   "display_name": "Python 3.9.6 64-bit"
  },
  "interpreter": {
   "hash": "002d09ec4a0a7bdd0a19985ef08c844b97af36bd358b0a20fbd9d94a35e89247"
  }
 },
 "nbformat": 4,
 "nbformat_minor": 2
}